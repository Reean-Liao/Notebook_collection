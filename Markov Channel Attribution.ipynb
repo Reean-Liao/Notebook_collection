{
 "cells": [
  {
   "cell_type": "code",
   "execution_count": 1,
   "metadata": {},
   "outputs": [],
   "source": [
    "import pandas as pd\n",
    "import seaborn as sns\n",
    "import matplotlib.pyplot as plt\n",
    "import re\n",
    "import numpy as np\n",
    "import itertools \n",
    "from collections import defaultdict\n"
   ]
  },
  {
   "cell_type": "code",
   "execution_count": null,
   "metadata": {},
   "outputs": [],
   "source": []
  },
  {
   "cell_type": "markdown",
   "metadata": {},
   "source": [
    "## Table of Content\n",
    "* [Cleaning & Preparation](#Cleaning-&-Preparation)\n",
    "    * [Read Table](#Read-Table)\n",
    "    * [Transform](#Transform)\n",
    "\n",
    "<br>\n",
    "\n",
    "* [Markov Chain](#Markov-Chain-Modelling)\n",
    "    * [Transition Matrix](#Transition-Matrix)\n",
    "    * [Removal Effect](#Removal-Effect)\n",
    "\n",
    "<br>\n",
    "\n",
    "* [Another Application](#Another-Application)\n",
    "    * [Product Acquisition](#Product-Acquisition)\n",
    "\n",
    "<br>\n",
    "\n",
    "* [Appendix](#Appendix-&-Notes)"
   ]
  },
  {
   "cell_type": "markdown",
   "metadata": {},
   "source": [
    "`Markov Chain` is named after the Russian mathematician Andrey Markov; it describes a sequence of possible events in which the probability of each event depends only on the state attained in the previous event.\n",
    "\n",
    "In the context of marketing channel attribution, `Markov Chain` gives us a framework to model user journeys and how each channel factors into the users traveling from one channel to another to eventually purchase (or not). \n",
    "\n",
    "In this notebook, we will use the Google Analytics (GA) traffic data to identify the probabilities of moving from one marketing channel event to another, and thereafter conversions (or not), in a 3-month window."
   ]
  },
  {
   "cell_type": "markdown",
   "metadata": {},
   "source": [
    "<img src=\"markov chain.png\" width=\"400\"/>"
   ]
  },
  {
   "cell_type": "markdown",
   "metadata": {},
   "source": [
    "## Cleaning & Preparation\n",
    "\n",
    "### Read Table\n",
    "[Back to top](#Table-of-Content)"
   ]
  },
  {
   "cell_type": "code",
   "execution_count": 4,
   "metadata": {},
   "outputs": [],
   "source": [
    "df_raw = pd.read_csv('Channel Attribution example data.csv')"
   ]
  },
  {
   "cell_type": "code",
   "execution_count": 5,
   "metadata": {},
   "outputs": [
    {
     "data": {
      "text/html": [
       "<div>\n",
       "<style scoped>\n",
       "    .dataframe tbody tr th:only-of-type {\n",
       "        vertical-align: middle;\n",
       "    }\n",
       "\n",
       "    .dataframe tbody tr th {\n",
       "        vertical-align: top;\n",
       "    }\n",
       "\n",
       "    .dataframe thead th {\n",
       "        text-align: right;\n",
       "    }\n",
       "</style>\n",
       "<table border=\"1\" class=\"dataframe\">\n",
       "  <thead>\n",
       "    <tr style=\"text-align: right;\">\n",
       "      <th></th>\n",
       "      <th>clientID</th>\n",
       "      <th>visitDate</th>\n",
       "      <th>channel</th>\n",
       "      <th>conversion</th>\n",
       "      <th>revenue</th>\n",
       "    </tr>\n",
       "  </thead>\n",
       "  <tbody>\n",
       "    <tr>\n",
       "      <th>0</th>\n",
       "      <td>10006173</td>\n",
       "      <td>2/4/21</td>\n",
       "      <td>organic</td>\n",
       "      <td>1</td>\n",
       "      <td>197.70</td>\n",
       "    </tr>\n",
       "    <tr>\n",
       "      <th>1</th>\n",
       "      <td>10001777</td>\n",
       "      <td>7/4/21</td>\n",
       "      <td>organic</td>\n",
       "      <td>1</td>\n",
       "      <td>237.70</td>\n",
       "    </tr>\n",
       "    <tr>\n",
       "      <th>2</th>\n",
       "      <td>10001616</td>\n",
       "      <td>24/4/21</td>\n",
       "      <td>organic</td>\n",
       "      <td>1</td>\n",
       "      <td>720.65</td>\n",
       "    </tr>\n",
       "    <tr>\n",
       "      <th>3</th>\n",
       "      <td>10006205</td>\n",
       "      <td>10/5/21</td>\n",
       "      <td>organic</td>\n",
       "      <td>1</td>\n",
       "      <td>1932.45</td>\n",
       "    </tr>\n",
       "    <tr>\n",
       "      <th>4</th>\n",
       "      <td>10006186</td>\n",
       "      <td>17/4/21</td>\n",
       "      <td>organic</td>\n",
       "      <td>1</td>\n",
       "      <td>867.70</td>\n",
       "    </tr>\n",
       "    <tr>\n",
       "      <th>5</th>\n",
       "      <td>10006164</td>\n",
       "      <td>3/4/21</td>\n",
       "      <td>organic</td>\n",
       "      <td>1</td>\n",
       "      <td>717.70</td>\n",
       "    </tr>\n",
       "  </tbody>\n",
       "</table>\n",
       "</div>"
      ],
      "text/plain": [
       "   clientID visitDate  channel  conversion  revenue\n",
       "0  10006173    2/4/21  organic           1   197.70\n",
       "1  10001777    7/4/21  organic           1   237.70\n",
       "2  10001616   24/4/21  organic           1   720.65\n",
       "3  10006205   10/5/21  organic           1  1932.45\n",
       "4  10006186   17/4/21  organic           1   867.70\n",
       "5  10006164    3/4/21  organic           1   717.70"
      ]
     },
     "execution_count": 5,
     "metadata": {},
     "output_type": "execute_result"
    }
   ],
   "source": [
    "df_raw.head(6)"
   ]
  },
  {
   "cell_type": "code",
   "execution_count": 8,
   "metadata": {},
   "outputs": [
    {
     "name": "stdout",
     "output_type": "stream",
     "text": [
      "<class 'pandas.core.frame.DataFrame'>\n",
      "RangeIndex: 6774363 entries, 0 to 6774362\n",
      "Data columns (total 5 columns):\n",
      "clientID      object\n",
      "visitDate     object\n",
      "channel       object\n",
      "conversion    int64\n",
      "revenue       float64\n",
      "dtypes: float64(1), int64(1), object(3)\n",
      "memory usage: 258.4+ MB\n"
     ]
    }
   ],
   "source": [
    "df_raw.info()"
   ]
  },
  {
   "cell_type": "markdown",
   "metadata": {},
   "source": [
    "This is a raw table containing all site visits from March to May 2021. `conversion` indicate whether the particular entry include a product purchase. \n",
    "\n",
    "**This dataset will include incomplete and repeated journeys**:\n",
    "    * First engagement started before March, no transaction within the chosen period\n",
    "    * First engagement started before March, first transaction occurred within the chosen period\n",
    "    * First engagement started and transacted before March, re-engaged within the chosen period\n",
    "    * Multiple transactions occurred during the chosen period\n",
    "    * First engaged started during the chosen period, may or may not transact by end of period\n",
    "    \n",
    "**Based on this, this exercise assumes**:\n",
    "    1. All journeys are considered to be starting in March and completed by end of May - 90 days window\n",
    "    2. First time transaction/journey is viewed as equal to repreated transaction/journey.\n",
    "    \n",
    "**Other general assumptions are**:\n",
    "    1. All campaigns or activities within the same channel are considered to be homogeneous. \n",
    "    2. Immediate subsequent visits from the same channel are ignored - unique channel interactions only.   "
   ]
  },
  {
   "cell_type": "markdown",
   "metadata": {},
   "source": [
    "### Transform\n",
    "[Back to top](#Table-of-Content)"
   ]
  },
  {
   "cell_type": "markdown",
   "metadata": {},
   "source": [
    "The raw data contains all visit entries and possibly all conversions within the chosen period for each scg_id. To effectively measure the channel attribution, we would need to first isolate all the activities prior to each conversion as separate journeys."
   ]
  },
  {
   "cell_type": "code",
   "execution_count": 6,
   "metadata": {},
   "outputs": [],
   "source": [
    "#assign visit number and journey number\n",
    "df_raw['visitNum'] = df_raw.groupby('clientID').cumcount() + 1\n",
    "df_raw['journeyNum'] = df_raw.groupby('clientID')['conversion'].transform(lambda x: x.diff().ne(1).cumsum())"
   ]
  },
  {
   "cell_type": "code",
   "execution_count": 8,
   "metadata": {},
   "outputs": [
    {
     "data": {
      "text/html": [
       "<div>\n",
       "<style scoped>\n",
       "    .dataframe tbody tr th:only-of-type {\n",
       "        vertical-align: middle;\n",
       "    }\n",
       "\n",
       "    .dataframe tbody tr th {\n",
       "        vertical-align: top;\n",
       "    }\n",
       "\n",
       "    .dataframe thead th {\n",
       "        text-align: right;\n",
       "    }\n",
       "</style>\n",
       "<table border=\"1\" class=\"dataframe\">\n",
       "  <thead>\n",
       "    <tr style=\"text-align: right;\">\n",
       "      <th></th>\n",
       "      <th>clientID</th>\n",
       "      <th>visitDate</th>\n",
       "      <th>channel</th>\n",
       "      <th>conversion</th>\n",
       "      <th>revenue</th>\n",
       "      <th>visitNum</th>\n",
       "      <th>journeyNum</th>\n",
       "    </tr>\n",
       "  </thead>\n",
       "  <tbody>\n",
       "    <tr>\n",
       "      <th>16182</th>\n",
       "      <td>10016122</td>\n",
       "      <td>1/3/21</td>\n",
       "      <td>direct</td>\n",
       "      <td>0</td>\n",
       "      <td>0.0</td>\n",
       "      <td>2</td>\n",
       "      <td>2</td>\n",
       "    </tr>\n",
       "    <tr>\n",
       "      <th>16183</th>\n",
       "      <td>10026145</td>\n",
       "      <td>1/3/21</td>\n",
       "      <td>direct</td>\n",
       "      <td>0</td>\n",
       "      <td>0.0</td>\n",
       "      <td>3</td>\n",
       "      <td>3</td>\n",
       "    </tr>\n",
       "    <tr>\n",
       "      <th>16184</th>\n",
       "      <td>10026047</td>\n",
       "      <td>1/3/21</td>\n",
       "      <td>organic</td>\n",
       "      <td>0</td>\n",
       "      <td>0.0</td>\n",
       "      <td>10</td>\n",
       "      <td>10</td>\n",
       "    </tr>\n",
       "    <tr>\n",
       "      <th>16185</th>\n",
       "      <td>10026144</td>\n",
       "      <td>1/3/21</td>\n",
       "      <td>organic</td>\n",
       "      <td>0</td>\n",
       "      <td>0.0</td>\n",
       "      <td>1</td>\n",
       "      <td>1</td>\n",
       "    </tr>\n",
       "    <tr>\n",
       "      <th>16186</th>\n",
       "      <td>10026145</td>\n",
       "      <td>1/3/21</td>\n",
       "      <td>organic</td>\n",
       "      <td>0</td>\n",
       "      <td>0.0</td>\n",
       "      <td>4</td>\n",
       "      <td>4</td>\n",
       "    </tr>\n",
       "    <tr>\n",
       "      <th>16187</th>\n",
       "      <td>10026145</td>\n",
       "      <td>1/3/21</td>\n",
       "      <td>newsletter</td>\n",
       "      <td>0</td>\n",
       "      <td>0.0</td>\n",
       "      <td>5</td>\n",
       "      <td>5</td>\n",
       "    </tr>\n",
       "    <tr>\n",
       "      <th>16188</th>\n",
       "      <td>10021458</td>\n",
       "      <td>1/3/21</td>\n",
       "      <td>direct</td>\n",
       "      <td>0</td>\n",
       "      <td>0.0</td>\n",
       "      <td>1</td>\n",
       "      <td>1</td>\n",
       "    </tr>\n",
       "    <tr>\n",
       "      <th>16189</th>\n",
       "      <td>10026134</td>\n",
       "      <td>1/3/21</td>\n",
       "      <td>direct</td>\n",
       "      <td>0</td>\n",
       "      <td>0.0</td>\n",
       "      <td>12</td>\n",
       "      <td>12</td>\n",
       "    </tr>\n",
       "    <tr>\n",
       "      <th>16190</th>\n",
       "      <td>10026066</td>\n",
       "      <td>1/3/21</td>\n",
       "      <td>organic</td>\n",
       "      <td>0</td>\n",
       "      <td>0.0</td>\n",
       "      <td>2</td>\n",
       "      <td>2</td>\n",
       "    </tr>\n",
       "    <tr>\n",
       "      <th>16191</th>\n",
       "      <td>10025628</td>\n",
       "      <td>1/3/21</td>\n",
       "      <td>referral</td>\n",
       "      <td>0</td>\n",
       "      <td>0.0</td>\n",
       "      <td>43</td>\n",
       "      <td>43</td>\n",
       "    </tr>\n",
       "  </tbody>\n",
       "</table>\n",
       "</div>"
      ],
      "text/plain": [
       "       clientID visitDate     channel  conversion  revenue  visitNum  \\\n",
       "16182  10016122    1/3/21      direct           0      0.0         2   \n",
       "16183  10026145    1/3/21      direct           0      0.0         3   \n",
       "16184  10026047    1/3/21     organic           0      0.0        10   \n",
       "16185  10026144    1/3/21     organic           0      0.0         1   \n",
       "16186  10026145    1/3/21     organic           0      0.0         4   \n",
       "16187  10026145    1/3/21  newsletter           0      0.0         5   \n",
       "16188  10021458    1/3/21      direct           0      0.0         1   \n",
       "16189  10026134    1/3/21      direct           0      0.0        12   \n",
       "16190  10026066    1/3/21     organic           0      0.0         2   \n",
       "16191  10025628    1/3/21    referral           0      0.0        43   \n",
       "\n",
       "       journeyNum  \n",
       "16182           2  \n",
       "16183           3  \n",
       "16184          10  \n",
       "16185           1  \n",
       "16186           4  \n",
       "16187           5  \n",
       "16188           1  \n",
       "16189          12  \n",
       "16190           2  \n",
       "16191          43  "
      ]
     },
     "execution_count": 8,
     "metadata": {},
     "output_type": "execute_result"
    }
   ],
   "source": [
    "df_raw.tail(10)"
   ]
  },
  {
   "cell_type": "code",
   "execution_count": 12,
   "metadata": {},
   "outputs": [
    {
     "data": {
      "text/html": [
       "<div>\n",
       "<style scoped>\n",
       "    .dataframe tbody tr th:only-of-type {\n",
       "        vertical-align: middle;\n",
       "    }\n",
       "\n",
       "    .dataframe tbody tr th {\n",
       "        vertical-align: top;\n",
       "    }\n",
       "\n",
       "    .dataframe thead th {\n",
       "        text-align: right;\n",
       "    }\n",
       "</style>\n",
       "<table border=\"1\" class=\"dataframe\">\n",
       "  <thead>\n",
       "    <tr style=\"text-align: right;\">\n",
       "      <th></th>\n",
       "      <th>clientID</th>\n",
       "      <th>visitDate</th>\n",
       "      <th>channel</th>\n",
       "      <th>conversion</th>\n",
       "      <th>revenue</th>\n",
       "      <th>visitNum</th>\n",
       "      <th>journeyNum</th>\n",
       "    </tr>\n",
       "  </thead>\n",
       "  <tbody>\n",
       "    <tr>\n",
       "      <th>12012</th>\n",
       "      <td>10026134</td>\n",
       "      <td>3/3/21</td>\n",
       "      <td>direct</td>\n",
       "      <td>0</td>\n",
       "      <td>0.0</td>\n",
       "      <td>1</td>\n",
       "      <td>1</td>\n",
       "    </tr>\n",
       "    <tr>\n",
       "      <th>12099</th>\n",
       "      <td>10026134</td>\n",
       "      <td>5/3/21</td>\n",
       "      <td>direct</td>\n",
       "      <td>0</td>\n",
       "      <td>0.0</td>\n",
       "      <td>2</td>\n",
       "      <td>2</td>\n",
       "    </tr>\n",
       "    <tr>\n",
       "      <th>12237</th>\n",
       "      <td>10026134</td>\n",
       "      <td>8/3/21</td>\n",
       "      <td>direct</td>\n",
       "      <td>0</td>\n",
       "      <td>0.0</td>\n",
       "      <td>3</td>\n",
       "      <td>3</td>\n",
       "    </tr>\n",
       "    <tr>\n",
       "      <th>12282</th>\n",
       "      <td>10026134</td>\n",
       "      <td>9/3/21</td>\n",
       "      <td>direct</td>\n",
       "      <td>0</td>\n",
       "      <td>0.0</td>\n",
       "      <td>4</td>\n",
       "      <td>4</td>\n",
       "    </tr>\n",
       "    <tr>\n",
       "      <th>12329</th>\n",
       "      <td>10026134</td>\n",
       "      <td>10/3/21</td>\n",
       "      <td>direct</td>\n",
       "      <td>0</td>\n",
       "      <td>0.0</td>\n",
       "      <td>5</td>\n",
       "      <td>5</td>\n",
       "    </tr>\n",
       "    <tr>\n",
       "      <th>12387</th>\n",
       "      <td>10026134</td>\n",
       "      <td>11/3/21</td>\n",
       "      <td>direct</td>\n",
       "      <td>0</td>\n",
       "      <td>0.0</td>\n",
       "      <td>6</td>\n",
       "      <td>6</td>\n",
       "    </tr>\n",
       "    <tr>\n",
       "      <th>12432</th>\n",
       "      <td>10026134</td>\n",
       "      <td>12/3/21</td>\n",
       "      <td>direct</td>\n",
       "      <td>0</td>\n",
       "      <td>0.0</td>\n",
       "      <td>7</td>\n",
       "      <td>7</td>\n",
       "    </tr>\n",
       "    <tr>\n",
       "      <th>12621</th>\n",
       "      <td>10026134</td>\n",
       "      <td>16/3/21</td>\n",
       "      <td>direct</td>\n",
       "      <td>0</td>\n",
       "      <td>0.0</td>\n",
       "      <td>8</td>\n",
       "      <td>8</td>\n",
       "    </tr>\n",
       "    <tr>\n",
       "      <th>12673</th>\n",
       "      <td>10026134</td>\n",
       "      <td>17/3/21</td>\n",
       "      <td>direct</td>\n",
       "      <td>0</td>\n",
       "      <td>0.0</td>\n",
       "      <td>9</td>\n",
       "      <td>9</td>\n",
       "    </tr>\n",
       "    <tr>\n",
       "      <th>12736</th>\n",
       "      <td>10026134</td>\n",
       "      <td>18/3/21</td>\n",
       "      <td>direct</td>\n",
       "      <td>0</td>\n",
       "      <td>0.0</td>\n",
       "      <td>10</td>\n",
       "      <td>10</td>\n",
       "    </tr>\n",
       "    <tr>\n",
       "      <th>12791</th>\n",
       "      <td>10026134</td>\n",
       "      <td>19/3/21</td>\n",
       "      <td>direct</td>\n",
       "      <td>0</td>\n",
       "      <td>0.0</td>\n",
       "      <td>11</td>\n",
       "      <td>11</td>\n",
       "    </tr>\n",
       "    <tr>\n",
       "      <th>16189</th>\n",
       "      <td>10026134</td>\n",
       "      <td>1/3/21</td>\n",
       "      <td>direct</td>\n",
       "      <td>0</td>\n",
       "      <td>0.0</td>\n",
       "      <td>12</td>\n",
       "      <td>12</td>\n",
       "    </tr>\n",
       "  </tbody>\n",
       "</table>\n",
       "</div>"
      ],
      "text/plain": [
       "       clientID visitDate channel  conversion  revenue  visitNum  journeyNum\n",
       "12012  10026134    3/3/21  direct           0      0.0         1           1\n",
       "12099  10026134    5/3/21  direct           0      0.0         2           2\n",
       "12237  10026134    8/3/21  direct           0      0.0         3           3\n",
       "12282  10026134    9/3/21  direct           0      0.0         4           4\n",
       "12329  10026134   10/3/21  direct           0      0.0         5           5\n",
       "12387  10026134   11/3/21  direct           0      0.0         6           6\n",
       "12432  10026134   12/3/21  direct           0      0.0         7           7\n",
       "12621  10026134   16/3/21  direct           0      0.0         8           8\n",
       "12673  10026134   17/3/21  direct           0      0.0         9           9\n",
       "12736  10026134   18/3/21  direct           0      0.0        10          10\n",
       "12791  10026134   19/3/21  direct           0      0.0        11          11\n",
       "16189  10026134    1/3/21  direct           0      0.0        12          12"
      ]
     },
     "execution_count": 12,
     "metadata": {},
     "output_type": "execute_result"
    }
   ],
   "source": [
    "df_raw[df_raw['clientID'].isin(['10026134'])]"
   ]
  },
  {
   "cell_type": "code",
   "execution_count": 13,
   "metadata": {},
   "outputs": [],
   "source": [
    "#aggregate unique channel touch point per journey\n",
    "df_paths= df_raw.groupby(['clientID','journeyNum'])['channel'].aggregate(lambda x: x.unique().tolist()).reset_index()\n",
    "\n",
    "#find out last interaction per journey\n",
    "df_last_interaction = df_raw.drop_duplicates(['clientID','journeyNum'],\n",
    "                                               keep='last')[['clientID','journeyNum','conversion']]\n",
    "\n",
    "#append conversion result\n",
    "df_paths= pd.merge(df_paths, df_last_interaction, how='left', on=['clientID','journeyNum'])\n",
    "\n",
    "#adding beginning and end to the path\n",
    "df_paths['path'] = np.where(df_paths['conversion'] == 0,\n",
    "                              df_paths['channel'].apply(lambda x: ['start']+ x + ['null']),\n",
    "                              df_paths['channel'].apply(lambda x: ['start']+ x + ['conversion']))"
   ]
  },
  {
   "cell_type": "code",
   "execution_count": 14,
   "metadata": {},
   "outputs": [
    {
     "data": {
      "text/html": [
       "<div>\n",
       "<style scoped>\n",
       "    .dataframe tbody tr th:only-of-type {\n",
       "        vertical-align: middle;\n",
       "    }\n",
       "\n",
       "    .dataframe tbody tr th {\n",
       "        vertical-align: top;\n",
       "    }\n",
       "\n",
       "    .dataframe thead th {\n",
       "        text-align: right;\n",
       "    }\n",
       "</style>\n",
       "<table border=\"1\" class=\"dataframe\">\n",
       "  <thead>\n",
       "    <tr style=\"text-align: right;\">\n",
       "      <th></th>\n",
       "      <th>clientID</th>\n",
       "      <th>journeyNum</th>\n",
       "      <th>channel</th>\n",
       "      <th>conversion</th>\n",
       "      <th>path</th>\n",
       "    </tr>\n",
       "  </thead>\n",
       "  <tbody>\n",
       "    <tr>\n",
       "      <th>0</th>\n",
       "      <td>004849fb</td>\n",
       "      <td>1</td>\n",
       "      <td>[direct]</td>\n",
       "      <td>0</td>\n",
       "      <td>[start, direct, null]</td>\n",
       "    </tr>\n",
       "    <tr>\n",
       "      <th>1</th>\n",
       "      <td>00a05537</td>\n",
       "      <td>1</td>\n",
       "      <td>[direct]</td>\n",
       "      <td>0</td>\n",
       "      <td>[start, direct, null]</td>\n",
       "    </tr>\n",
       "    <tr>\n",
       "      <th>2</th>\n",
       "      <td>00ccf3fb</td>\n",
       "      <td>1</td>\n",
       "      <td>[direct]</td>\n",
       "      <td>0</td>\n",
       "      <td>[start, direct, null]</td>\n",
       "    </tr>\n",
       "    <tr>\n",
       "      <th>3</th>\n",
       "      <td>01d71064</td>\n",
       "      <td>1</td>\n",
       "      <td>[direct]</td>\n",
       "      <td>0</td>\n",
       "      <td>[start, direct, null]</td>\n",
       "    </tr>\n",
       "    <tr>\n",
       "      <th>4</th>\n",
       "      <td>0234d2d0</td>\n",
       "      <td>1</td>\n",
       "      <td>[direct]</td>\n",
       "      <td>0</td>\n",
       "      <td>[start, direct, null]</td>\n",
       "    </tr>\n",
       "  </tbody>\n",
       "</table>\n",
       "</div>"
      ],
      "text/plain": [
       "   clientID  journeyNum   channel  conversion                   path\n",
       "0  004849fb           1  [direct]           0  [start, direct, null]\n",
       "1  00a05537           1  [direct]           0  [start, direct, null]\n",
       "2  00ccf3fb           1  [direct]           0  [start, direct, null]\n",
       "3  01d71064           1  [direct]           0  [start, direct, null]\n",
       "4  0234d2d0           1  [direct]           0  [start, direct, null]"
      ]
     },
     "execution_count": 14,
     "metadata": {},
     "output_type": "execute_result"
    }
   ],
   "source": [
    "df_paths.head(5)"
   ]
  },
  {
   "cell_type": "code",
   "execution_count": 124,
   "metadata": {},
   "outputs": [],
   "source": [
    "df_paths.to_csv('df_paths.csv', header=True, index=False)"
   ]
  },
  {
   "cell_type": "markdown",
   "metadata": {},
   "source": [
    "## Markov Chain Modelling\n",
    "\n",
    "### Transition Matrix\n",
    "[Back to top](#Table-of-Content)"
   ]
  },
  {
   "cell_type": "code",
   "execution_count": 15,
   "metadata": {
    "scrolled": true
   },
   "outputs": [
    {
     "name": "stdout",
     "output_type": "stream",
     "text": [
      "Base conversion over this period is 73.81%\n"
     ]
    }
   ],
   "source": [
    "list_of_paths = df_paths['path']\n",
    "total_conversions = sum(path.count('conversion') for path in df_paths['path'].tolist()) #conversion count\n",
    "total_conversions_value=df_raw.revenue.sum() #conversion revenue\n",
    "base_conversion_rate = total_conversions / len(list_of_paths)\n",
    "print('Base conversion over this period is {:.2%}'.format(base_conversion_rate))"
   ]
  },
  {
   "cell_type": "markdown",
   "metadata": {},
   "source": [
    "Base conversion rate is very high, because this is fake data."
   ]
  },
  {
   "cell_type": "code",
   "execution_count": 16,
   "metadata": {},
   "outputs": [],
   "source": [
    "#function to identity all possible transition\n",
    "def transition_states(list_of_paths):\n",
    "    #create a set of unique channels\n",
    "    list_of_unique_channels = set(x for element in list_of_paths for x in element)\n",
    "   \n",
    "    #initial a dict for all transition permutations with a count of 0\n",
    "    transition_states = {x + '>' + y: 0 for x in list_of_unique_channels for y in list_of_unique_channels}\n",
    "    \n",
    "    for possible_state in list_of_unique_channels:\n",
    "        if possible_state not in ['conversion', 'null']: #remove ending state\n",
    "            for user_path in list_of_paths:\n",
    "                if possible_state in user_path:\n",
    "                    indices = [i for i, s in enumerate(user_path) if possible_state in s] \n",
    "                    for col in indices:\n",
    "                        #retrieve the particular transition pair in the dict, adds 1 to the count\n",
    "                        transition_states[user_path[col] + '>' + user_path[col + 1]] += 1 \n",
    "                        \n",
    "    return transition_states\n",
    "\n",
    "trans_states = transition_states(list_of_paths)"
   ]
  },
  {
   "cell_type": "code",
   "execution_count": 17,
   "metadata": {},
   "outputs": [
    {
     "data": {
      "text/plain": [
       "{'googlePaidSearch>googlePaidSearch': 0,\n",
       " 'googlePaidSearch>organic': 0,\n",
       " 'googlePaidSearch>W+App': 0,\n",
       " 'googlePaidSearch>newsletter': 0,\n",
       " 'googlePaidSearch>conversion': 1320,\n",
       " 'googlePaidSearch>qrScan': 0,\n",
       " 'googlePaidSearch>start': 0,\n",
       " 'googlePaidSearch>social': 0}"
      ]
     },
     "execution_count": 17,
     "metadata": {},
     "output_type": "execute_result"
    }
   ],
   "source": [
    "dict(itertools.islice(trans_states.items(), 8)) "
   ]
  },
  {
   "cell_type": "code",
   "execution_count": 18,
   "metadata": {},
   "outputs": [],
   "source": [
    "#function to calculate transition probability\n",
    "def transition_prob(list_of_paths,trans_dict):\n",
    "    list_of_unique_channels = set(x for element in list_of_paths for x in element)\n",
    "    trans_prob = defaultdict(dict) #if key is not found, create a new entry\n",
    "    \n",
    "    for state in list_of_unique_channels:\n",
    "        if state not in ['conversion', 'null']:\n",
    "            counter = 0\n",
    "            index = [i for i, s in enumerate(trans_dict) if state + '>' in s] \n",
    "                                                                    #find starting state's row index                \n",
    "                   \n",
    "            for col in index:\n",
    "                if trans_dict[list(trans_dict)[col]] > 0: #where there is a transition\n",
    "                    counter += trans_dict[list(trans_dict)[col]] #total occurance of all transitions                  \n",
    "                    \n",
    "            for col in index:\n",
    "                if trans_dict[list(trans_dict)[col]] > 0:\n",
    "                    state_prob = float((trans_dict[list(trans_dict)[col]])) / float(counter) \n",
    "                                                                    #transition of a particular state\n",
    "                    trans_prob[list(trans_dict)[col]] = state_prob\n",
    "\n",
    "    return trans_prob\n",
    "\n",
    "\n",
    "trans_prob = transition_prob(list_of_paths,trans_states)"
   ]
  },
  {
   "cell_type": "code",
   "execution_count": 19,
   "metadata": {},
   "outputs": [
    {
     "data": {
      "text/plain": [
       "{'googlePaidSearch>conversion': 0.9315455187014821,\n",
       " 'googlePaidSearch>null': 0.068454481298518,\n",
       " 'organic>conversion': 0.8184443409408477,\n",
       " 'organic>null': 0.1815556590591523,\n",
       " 'W+App>conversion': 0.980072463768116,\n",
       " 'W+App>null': 0.019927536231884056,\n",
       " 'newsletter>conversion': 0.026595744680851064,\n",
       " 'newsletter>null': 0.973404255319149}"
      ]
     },
     "execution_count": 19,
     "metadata": {},
     "output_type": "execute_result"
    }
   ],
   "source": [
    "dict(itertools.islice(trans_prob.items(), 8))"
   ]
  },
  {
   "cell_type": "code",
   "execution_count": 20,
   "metadata": {},
   "outputs": [],
   "source": [
    "#function to produce the transition matrix\n",
    "def transition_matrix(list_of_paths, transition_probabilities):\n",
    "    trans_matrix = pd.DataFrame()\n",
    "    list_of_unique_channels = set(x for element in list_of_paths for x in element)\n",
    "    \n",
    "    #set up the frame for the cross-matrix\n",
    "    for channel in list_of_unique_channels:\n",
    "        trans_matrix[channel] = 0.00 #set column channel to 0\n",
    "        trans_matrix.loc[channel] = 0.00 #set row channel to 0 with channel as index\n",
    "        trans_matrix.loc[channel][channel] = 1.0 if channel in ['conversion', 'null'] else 0.0\n",
    "    \n",
    "    #populate value\n",
    "    for key, value in transition_probabilities.items():\n",
    "        origin, destination = key.split('>')\n",
    "        trans_matrix.at[origin, destination] = value\n",
    "\n",
    "    return trans_matrix\n",
    "\n",
    "trans_matrix = transition_matrix(list_of_paths, trans_prob)"
   ]
  },
  {
   "cell_type": "code",
   "execution_count": 21,
   "metadata": {},
   "outputs": [
    {
     "data": {
      "image/png": "[encoded data removed]",
      "text/plain": [
       "<Figure size 864x576 with 2 Axes>"
      ]
     },
     "metadata": {
      "needs_background": "light"
     },
     "output_type": "display_data"
    }
   ],
   "source": [
    "plt.figure(figsize=(12,8))\n",
    "sns.heatmap(trans_matrix, cmap=\"YlGnBu\", annot=True, fmt='.1%')\n",
    "plt.xlabel('Destination')\n",
    "plt.ylabel('Origin')\n",
    "plt.show()"
   ]
  },
  {
   "cell_type": "markdown",
   "metadata": {},
   "source": [
    "### Removal Effect\n",
    "[Back to top](#Table-of-Content)"
   ]
  },
  {
   "cell_type": "markdown",
   "metadata": {},
   "source": [
    "To measure the importance of each channel/campaign by calculating, we would calculate `Removal Effect` for each channel. A channel’s effectiveness is determined by removing it completely from the `Markov Chain` graph and simulating the new buyer journeys, measuring the change in success rate without it in place. `Removal Effect` is a proxy for weight, in terms of marketing attribution.\n",
    "\n",
    "To calculate each channel’s attribution value we can use the following formula: **A = V * (Rt / Rv)**\n",
    "   * **A** = Channel’s attribution value\n",
    "   * **V** = Total value to divide. In our case, it is the total GDC revenue in the 3 months period\n",
    "   * **Rt** = Channel’s Removal Effect\n",
    "   * **Rv** = Sum of all Removal Effect values"
   ]
  },
  {
   "cell_type": "code",
   "execution_count": 22,
   "metadata": {},
   "outputs": [],
   "source": [
    "#function to calculate removal effect\n",
    "def removal_effects(df, conversion_rate):\n",
    "    removal_effects_dict = {}\n",
    "    channels = [channel for channel in df.columns if channel not in ['start', 'null', 'conversion']]\n",
    "    \n",
    "    for channel in channels:\n",
    "        #dropping the channel in transition matrix\n",
    "        removal_df = df.drop(channel, axis=1).drop(channel, axis=0) \n",
    "        \n",
    "        for column in removal_df.columns:\n",
    "            row_sum = np.sum(list(removal_df.loc[column])) #row sum without the channel\n",
    "            null_pct = float(1) - row_sum #effect of the channel in row\n",
    "           \n",
    "            if null_pct != 0:\n",
    "                removal_df.loc[column]['null'] = null_pct \n",
    "            removal_df.loc['null']['null'] = 1.0\n",
    "        \n",
    "        #matrix only containing the last transient states, and final destination/absorbing state - R\n",
    "        removal_to_conv = removal_df[['null', 'conversion']].drop(['null', 'conversion'], axis=0)\n",
    "        \n",
    "        #matrix only containing the transient states - Q\n",
    "        removal_to_non_conv = removal_df.drop(['null', 'conversion'], axis=1).drop(['null', 'conversion'], axis=0)\n",
    "\n",
    "        # compute the fundamental matrix N\n",
    "        removal_inv_diff = np.linalg.inv(np.identity(len(removal_to_non_conv.columns)) #generate identity matrix\n",
    "                                            - np.asarray(removal_to_non_conv)\n",
    "                                        )\n",
    "        #calculate dot product for matrix B (B=N*R)\n",
    "        removal_dot_prod = np.dot(removal_inv_diff, np.asarray(removal_to_conv))\n",
    "        \n",
    "        #calculate new conversion rate\n",
    "        removal_cvr = pd.DataFrame(removal_dot_prod,\n",
    "                                   index=removal_to_conv.index)[[1]].loc['start'].values[0]\n",
    "        removal_effect = 1 - removal_cvr / conversion_rate\n",
    "        removal_effects_dict[channel] = removal_effect\n",
    "\n",
    "    return removal_effects_dict\n",
    "\n",
    "removal_effects_dict = removal_effects(trans_matrix, base_conversion_rate)"
   ]
  },
  {
   "cell_type": "code",
   "execution_count": 23,
   "metadata": {},
   "outputs": [
    {
     "data": {
      "text/plain": [
       "{'googlePaidSearch': 0.11045100828382537,\n",
       " 'organic': 0.7351686051376454,\n",
       " 'W+App': 0.04526817839511321,\n",
       " 'newsletter': 0.0008367500627560753,\n",
       " 'qrScan': 0.0002510250188267893,\n",
       " 'social': 0.0029286252196467633,\n",
       " 'otherApp': 8.367500627548541e-05,\n",
       " 'direct': 0.09873650740523787,\n",
       " 'referral': 0.006275625470671842}"
      ]
     },
     "execution_count": 23,
     "metadata": {},
     "output_type": "execute_result"
    }
   ],
   "source": [
    "removal_effects_dict"
   ]
  },
  {
   "cell_type": "code",
   "execution_count": 24,
   "metadata": {},
   "outputs": [],
   "source": [
    "#function to calculate final allocation\n",
    "def markov_chain_allocations(removal_effects, total_conversions):\n",
    "    re_sum = np.sum(list(removal_effects.values()))\n",
    "\n",
    "    return {k: (v / re_sum) * total_conversions for k, v in removal_effects.items()}\n",
    "\n",
    "attributions = markov_chain_allocations(removal_effects_dict, total_conversions)"
   ]
  },
  {
   "cell_type": "code",
   "execution_count": 25,
   "metadata": {},
   "outputs": [
    {
     "data": {
      "text/plain": [
       "{'googlePaidSearch': 1319.9999999999986,\n",
       " 'organic': 8786.000000000011,\n",
       " 'W+App': 540.9999999999986,\n",
       " 'newsletter': 9.999999999997868,\n",
       " 'qrScan': 2.9999999999989626,\n",
       " 'social': 34.99999999999851,\n",
       " 'otherApp': 0.9999999999983274,\n",
       " 'direct': 1179.9999999999993,\n",
       " 'referral': 74.99999999999928}"
      ]
     },
     "execution_count": 25,
     "metadata": {},
     "output_type": "execute_result"
    }
   ],
   "source": [
    "attributions"
   ]
  },
  {
   "cell_type": "code",
   "execution_count": 26,
   "metadata": {},
   "outputs": [
    {
     "data": {
      "image/png": "[encoded data removed]",
      "text/plain": [
       "<Figure size 1080x576 with 1 Axes>"
      ]
     },
     "metadata": {
      "needs_background": "light"
     },
     "output_type": "display_data"
    }
   ],
   "source": [
    "df_attributions = pd.DataFrame(attributions.items())\n",
    "plt.figure(figsize=(15,8))\n",
    "sns.barplot(x=0, y=1, data=df_attributions);\n",
    "plt.xlabel('Channels');\n",
    "plt.ylabel('Conversions');"
   ]
  },
  {
   "cell_type": "code",
   "execution_count": 27,
   "metadata": {},
   "outputs": [
    {
     "data": {
      "text/plain": [
       "{'googlePaidSearch': 1393806.0200820004,\n",
       " 'organic': 9277257.34275794,\n",
       " 'W+App': 571249.2855033039,\n",
       " 'newsletter': 10559.13651577049,\n",
       " 'qrScan': 3167.740954730727,\n",
       " 'social': 36956.977805203016,\n",
       " 'otherApp': 1055.913651575508,\n",
       " 'direct': 1245978.1088611826,\n",
       " 'referral': 79193.5238682948}"
      ]
     },
     "execution_count": 27,
     "metadata": {},
     "output_type": "execute_result"
    }
   ],
   "source": [
    "attributions_value = markov_chain_allocations(removal_effects_dict, total_conversions_value)\n",
    "attributions_value"
   ]
  },
  {
   "cell_type": "code",
   "execution_count": 28,
   "metadata": {},
   "outputs": [
    {
     "data": {
      "image/png": "[encoded data removed]",
      "text/plain": [
       "<Figure size 1080x576 with 1 Axes>"
      ]
     },
     "metadata": {
      "needs_background": "light"
     },
     "output_type": "display_data"
    }
   ],
   "source": [
    "df_attributions_value = pd.DataFrame(attributions_value.items())\n",
    "plt.figure(figsize=(15,8))\n",
    "sns.barplot(x=0, y=1, data=df_attributions_value);\n",
    "plt.xlabel('Channels');\n",
    "plt.ylabel('Revenue');"
   ]
  },
  {
   "cell_type": "markdown",
   "metadata": {},
   "source": [
    "## Another Application\n",
    "\n",
    "### Product Acquisition\n",
    "[Back to top](#Table-of-Content)"
   ]
  },
  {
   "cell_type": "markdown",
   "metadata": {},
   "source": [
    "The `Markov Chain` model framework can also be applied to users product acquisition journeys. By looking into the transition probability and the users' current state, we can identify cross sell opportunities (the next product to recommend to the users."
   ]
  },
  {
   "cell_type": "code",
   "execution_count": 29,
   "metadata": {},
   "outputs": [],
   "source": [
    "df_prod = pd.read_csv('Product journey example data.csv')"
   ]
  },
  {
   "cell_type": "code",
   "execution_count": 30,
   "metadata": {},
   "outputs": [
    {
     "data": {
      "text/html": [
       "<div>\n",
       "<style scoped>\n",
       "    .dataframe tbody tr th:only-of-type {\n",
       "        vertical-align: middle;\n",
       "    }\n",
       "\n",
       "    .dataframe tbody tr th {\n",
       "        vertical-align: top;\n",
       "    }\n",
       "\n",
       "    .dataframe thead th {\n",
       "        text-align: right;\n",
       "    }\n",
       "</style>\n",
       "<table border=\"1\" class=\"dataframe\">\n",
       "  <thead>\n",
       "    <tr style=\"text-align: right;\">\n",
       "      <th></th>\n",
       "      <th>customer_id</th>\n",
       "      <th>acquisition_source_name</th>\n",
       "      <th>acquisition_timestamp</th>\n",
       "    </tr>\n",
       "  </thead>\n",
       "  <tbody>\n",
       "    <tr>\n",
       "      <th>0</th>\n",
       "      <td>ba31ffaf</td>\n",
       "      <td>product_B</td>\n",
       "      <td>2020-01-12 19:50:54 UTC</td>\n",
       "    </tr>\n",
       "    <tr>\n",
       "      <th>1</th>\n",
       "      <td>84715cef</td>\n",
       "      <td>product_B</td>\n",
       "      <td>2019-10-23 04:07:44 UTC</td>\n",
       "    </tr>\n",
       "    <tr>\n",
       "      <th>2</th>\n",
       "      <td>ebb78b3f</td>\n",
       "      <td>product_B</td>\n",
       "      <td>2019-12-01 03:59:56 UTC</td>\n",
       "    </tr>\n",
       "    <tr>\n",
       "      <th>3</th>\n",
       "      <td>27848d3a</td>\n",
       "      <td>product_B</td>\n",
       "      <td>2019-09-17 17:13:26 UTC</td>\n",
       "    </tr>\n",
       "    <tr>\n",
       "      <th>4</th>\n",
       "      <td>0fd428d9</td>\n",
       "      <td>product_B</td>\n",
       "      <td>2020-02-17 02:11:49 UTC</td>\n",
       "    </tr>\n",
       "  </tbody>\n",
       "</table>\n",
       "</div>"
      ],
      "text/plain": [
       "  customer_id acquisition_source_name    acquisition_timestamp\n",
       "0    ba31ffaf               product_B  2020-01-12 19:50:54 UTC\n",
       "1    84715cef               product_B  2019-10-23 04:07:44 UTC\n",
       "2    ebb78b3f               product_B  2019-12-01 03:59:56 UTC\n",
       "3    27848d3a               product_B  2019-09-17 17:13:26 UTC\n",
       "4    0fd428d9               product_B  2020-02-17 02:11:49 UTC"
      ]
     },
     "execution_count": 30,
     "metadata": {},
     "output_type": "execute_result"
    }
   ],
   "source": [
    "df_prod.head()"
   ]
  },
  {
   "cell_type": "code",
   "execution_count": 35,
   "metadata": {},
   "outputs": [],
   "source": [
    "df_paths_prod= df_prod.sort_values(['customer_id',\n",
    "                'acquisition_timestamp']).groupby('customer_id')['acquisition_source_name'].aggregate(\n",
    "                                                            lambda x: x.unique().tolist()).reset_index()\n",
    "\n",
    "df_paths_prod['path'] = df_paths_prod['acquisition_source_name'].apply(lambda x: ['start']+ x + ['null'])"
   ]
  },
  {
   "cell_type": "code",
   "execution_count": 36,
   "metadata": {},
   "outputs": [
    {
     "data": {
      "text/html": [
       "<div>\n",
       "<style scoped>\n",
       "    .dataframe tbody tr th:only-of-type {\n",
       "        vertical-align: middle;\n",
       "    }\n",
       "\n",
       "    .dataframe tbody tr th {\n",
       "        vertical-align: top;\n",
       "    }\n",
       "\n",
       "    .dataframe thead th {\n",
       "        text-align: right;\n",
       "    }\n",
       "</style>\n",
       "<table border=\"1\" class=\"dataframe\">\n",
       "  <thead>\n",
       "    <tr style=\"text-align: right;\">\n",
       "      <th></th>\n",
       "      <th>customer_id</th>\n",
       "      <th>acquisition_source_name</th>\n",
       "      <th>acquisition_timestamp</th>\n",
       "    </tr>\n",
       "  </thead>\n",
       "  <tbody>\n",
       "    <tr>\n",
       "      <th>0</th>\n",
       "      <td>ba31ffaf</td>\n",
       "      <td>product_B</td>\n",
       "      <td>2020-01-12 19:50:54 UTC</td>\n",
       "    </tr>\n",
       "    <tr>\n",
       "      <th>6122</th>\n",
       "      <td>ba31ffaf</td>\n",
       "      <td>product_C</td>\n",
       "      <td>2018-09-11 11:26:37 UTC</td>\n",
       "    </tr>\n",
       "    <tr>\n",
       "      <th>13492</th>\n",
       "      <td>ba31ffaf</td>\n",
       "      <td>product_A</td>\n",
       "      <td>2020-01-12 19:50:55 UTC</td>\n",
       "    </tr>\n",
       "  </tbody>\n",
       "</table>\n",
       "</div>"
      ],
      "text/plain": [
       "      customer_id acquisition_source_name    acquisition_timestamp\n",
       "0        ba31ffaf               product_B  2020-01-12 19:50:54 UTC\n",
       "6122     ba31ffaf               product_C  2018-09-11 11:26:37 UTC\n",
       "13492    ba31ffaf               product_A  2020-01-12 19:50:55 UTC"
      ]
     },
     "execution_count": 36,
     "metadata": {},
     "output_type": "execute_result"
    }
   ],
   "source": [
    "df_prod[df_prod['customer_id']=='ba31ffaf']"
   ]
  },
  {
   "cell_type": "code",
   "execution_count": 37,
   "metadata": {},
   "outputs": [
    {
     "data": {
      "text/html": [
       "<div>\n",
       "<style scoped>\n",
       "    .dataframe tbody tr th:only-of-type {\n",
       "        vertical-align: middle;\n",
       "    }\n",
       "\n",
       "    .dataframe tbody tr th {\n",
       "        vertical-align: top;\n",
       "    }\n",
       "\n",
       "    .dataframe thead th {\n",
       "        text-align: right;\n",
       "    }\n",
       "</style>\n",
       "<table border=\"1\" class=\"dataframe\">\n",
       "  <thead>\n",
       "    <tr style=\"text-align: right;\">\n",
       "      <th></th>\n",
       "      <th>customer_id</th>\n",
       "      <th>acquisition_source_name</th>\n",
       "      <th>path</th>\n",
       "    </tr>\n",
       "  </thead>\n",
       "  <tbody>\n",
       "    <tr>\n",
       "      <th>5506</th>\n",
       "      <td>ba31ffaf</td>\n",
       "      <td>[product_C, product_B, product_A]</td>\n",
       "      <td>[start, product_C, product_B, product_A, null]</td>\n",
       "    </tr>\n",
       "  </tbody>\n",
       "</table>\n",
       "</div>"
      ],
      "text/plain": [
       "     customer_id            acquisition_source_name  \\\n",
       "5506    ba31ffaf  [product_C, product_B, product_A]   \n",
       "\n",
       "                                                path  \n",
       "5506  [start, product_C, product_B, product_A, null]  "
      ]
     },
     "execution_count": 37,
     "metadata": {},
     "output_type": "execute_result"
    }
   ],
   "source": [
    "df_paths_prod[df_paths_prod['customer_id']=='ba31ffaf']"
   ]
  },
  {
   "cell_type": "code",
   "execution_count": 39,
   "metadata": {},
   "outputs": [],
   "source": [
    "list_of_paths_prod = df_paths_prod['path']\n",
    "trans_states_prod = transition_states(list_of_paths_prod)\n",
    "trans_prob_prod = transition_prob(list_of_paths_prod,trans_states_prod)\n",
    "trans_matrix_prod = transition_matrix(list_of_paths_prod, trans_prob_prod)"
   ]
  },
  {
   "cell_type": "code",
   "execution_count": 40,
   "metadata": {},
   "outputs": [
    {
     "data": {
      "image/png": "[encoded data removed]",
      "text/plain": [
       "<Figure size 720x576 with 2 Axes>"
      ]
     },
     "metadata": {
      "needs_background": "light"
     },
     "output_type": "display_data"
    }
   ],
   "source": [
    "plt.figure(figsize=(10,8))\n",
    "ax=sns.heatmap(trans_matrix_prod, cmap=\"YlGnBu\", annot=True, fmt='.1%')\n",
    "bottom, top = ax.get_ylim()\n",
    "ax.set_ylim(bottom + 0.5, top - 0.5)\n",
    "\n",
    "plt.xlabel('Ending product')\n",
    "plt.ylabel('Starting product')\n",
    "plt.show()"
   ]
  },
  {
   "cell_type": "markdown",
   "metadata": {},
   "source": [
    "Looking at the transition matrix, it seems 69% of our total customers started their journey with `product_C`, while 26% started with the `product_B`. Other insights we can draw are:\n",
    "   * **product_C** customers tend to flow into `product_B`\n",
    "   * **product_A** customers tend to flow into `product_C` \n",
    "   * **product_B** customers only sometimes flow into `product_A` and `product_C`"
   ]
  },
  {
   "cell_type": "markdown",
   "metadata": {},
   "source": [
    "## Appendix \n",
    "[Back to top](#Table-of-Content)"
   ]
  },
  {
   "cell_type": "markdown",
   "metadata": {},
   "source": [
    "### Matrix Algebra"
   ]
  },
  {
   "cell_type": "markdown",
   "metadata": {},
   "source": [
    "Refer to https://en.wikipedia.org/wiki/Absorbing_Markov_chain for the maths foundation of the above matrix calculation.\n",
    "\n",
    "Basically, since we have an ending/absorbing state of either 'conversion' or 'null', we have an `Absorbing Markov Chain`, which comes with its own properties. One of these properties is we can calculate the expected number of visits to a transient state **j** starting from a transient state **i** via the `Fundamental Matrix`.\n",
    "\n",
    "The probability of transitioning from a transient state **i** to another transient state **j** (before being absorbed) in exactly **k** steps is the (i,j)-entry of **Q<sup>k</sup>**. where **Q** describes the probability of transitioning from some transient state to another. Summing this for all **k** (from 0 to ∞) yields the `Fundamental Matrix`, denoted by N. It can be proven that:"
   ]
  },
  {
   "cell_type": "markdown",
   "metadata": {},
   "source": [
    "<img src=\"fundamental matrix.png\" width=\"200\"/>"
   ]
  },
  {
   "cell_type": "markdown",
   "metadata": {},
   "source": [
    "Another property is that we can also calculate the probability of being absorbed in the absorbing state **j** when starting from transient state **i**, which is the (i,j)-entry of the matrix **B**. We have formula **B = N * R** , where **R** describes the probability of transitioning from some transient state to some absorbing state."
   ]
  }
 ],
 "metadata": {
  "kernelspec": {
   "display_name": "Python 3",
   "language": "python",
   "name": "python3"
  },
  "language_info": {
   "codemirror_mode": {
    "name": "ipython",
    "version": 3
   },
   "file_extension": ".py",
   "mimetype": "text/x-python",
   "name": "python",
   "nbconvert_exporter": "python",
   "pygments_lexer": "ipython3",
   "version": "3.7.4"
  }
 },
 "nbformat": 4,
 "nbformat_minor": 2
}
