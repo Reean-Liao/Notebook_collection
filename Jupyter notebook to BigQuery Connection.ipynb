{
 "cells": [
  {
   "cell_type": "code",
   "execution_count": 2,
   "metadata": {},
   "outputs": [],
   "source": [
    "import sys"
   ]
  },
  {
   "cell_type": "code",
   "execution_count": 3,
   "metadata": {},
   "outputs": [
    {
     "name": "stdout",
     "output_type": "stream",
     "text": [
      "/Users/rliao/opt/anaconda3/bin/python\n"
     ]
    }
   ],
   "source": [
    "print(sys.executable)"
   ]
  },
  {
   "cell_type": "markdown",
   "metadata": {},
   "source": [
    "## Download data from BigQuery"
   ]
  },
  {
   "cell_type": "code",
   "execution_count": 1,
   "metadata": {},
   "outputs": [],
   "source": [
    "from google.cloud import bigquery\n",
    "from google.cloud import storage\n",
    "from google_auth_oauthlib import flow\n",
    "import pandas as pd\n",
    "#import pandas_gbq\n",
    "#from datalab.context import Context"
   ]
  },
  {
   "cell_type": "code",
   "execution_count": 2,
   "metadata": {},
   "outputs": [],
   "source": [
    "# RLiao account json credentials\n",
    "client_secrets_json = '/Users/rliao/Credentials/client_secret_394671187685-qjjdbmab2a7m413p1rgq8fuv8lv0iufi.apps.googleusercontent.com.json'\n",
    "\n",
    "# project\n",
    "project_id = 'scg-dai-sci-dev'\n",
    "dataset_id = 'Playground_rliao'\n",
    "# scopes\n",
    "scopes = ['https://www.googleapis.com/auth/bigquery',\n",
    "          'https://www.googleapis.com/auth/cloud-platform']"
   ]
  },
  {
   "cell_type": "code",
   "execution_count": 3,
   "metadata": {},
   "outputs": [
    {
     "name": "stdout",
     "output_type": "stream",
     "text": [
      "...authenticating user\n",
      "Please visit this URL to authorize this application: https://accounts.google.com/o/oauth2/auth?response_type=code&client_id=394671187685-qjjdbmab2a7m413p1rgq8fuv8lv0iufi.apps.googleusercontent.com&redirect_uri=http%3A%2F%2Flocalhost%3A8080%2F&scope=https%3A%2F%2Fwww.googleapis.com%2Fauth%2Fbigquery+https%3A%2F%2Fwww.googleapis.com%2Fauth%2Fcloud-platform&state=5pRjDUvRBQOC4S9u0oy2tDfPbwSA4J&access_type=offline\n"
     ]
    }
   ],
   "source": [
    "def authenticate_credentials(client_secrets_json, scopes):\n",
    "    \"\"\"Prepare credentials for authentication\n",
    "    :rtype: credentials object\n",
    "    \"\"\"\n",
    "    print('...authenticating user')\n",
    "    appflow = flow.InstalledAppFlow.from_client_secrets_file(client_secrets_json, scopes)\n",
    "    appflow.run_local_server()\n",
    "    credentials = appflow.credentials\n",
    "    # return\n",
    "    return(credentials)\n",
    "\n",
    "# authenticate user and get credentials\n",
    "credentials = authenticate_credentials(client_secrets_json= client_secrets_json,\n",
    "                                       scopes = scopes)"
   ]
  },
  {
   "cell_type": "code",
   "execution_count": 6,
   "metadata": {},
   "outputs": [],
   "source": [
    "#client = bigquery.Client.from_service_account_json(service_account_json)\n",
    "bqclient = bigquery.Client(project= project_id, credentials= credentials)\n",
    "#bqstorageclient = bigquery_storage_v1beta1.BigQueryStorageClient(credentials=credentials)"
   ]
  },
  {
   "cell_type": "code",
   "execution_count": 4,
   "metadata": {},
   "outputs": [],
   "source": [
    "# Reading query\n",
    "query_string = \"\"\"\n",
    "\n",
    "Select *from visit_cluster\n",
    "\"\"\"\n",
    "\n",
    "#print('...preparing query')\n",
    "#fd = open('../sql/get_turnover_data_for_audit.sql','r')\n",
    "#sqlFile = fd.read()"
   ]
  },
  {
   "cell_type": "code",
   "execution_count": 7,
   "metadata": {},
   "outputs": [],
   "source": [
    "df = bqclient.query(query_string).to_dataframe()\n",
    "\n",
    "#dataframe = (\n",
    " #   bqclient.query(query_string)\n",
    "  #  .result()\n",
    "   # .to_dataframe(bqstorage_client=bqstorageclient)\n",
    "#)\n",
    "# print(dataframe.head())"
   ]
  },
  {
   "cell_type": "markdown",
   "metadata": {},
   "source": [
    "## Upload data to BigQuery"
   ]
  },
  {
   "cell_type": "code",
   "execution_count": 50,
   "metadata": {},
   "outputs": [],
   "source": [
    "nsw_covid19_url = 'https://data.nsw.gov.au/data/dataset/aefcde60-3b0c-4bc0-9af1-6fe652944ec2/resource/21304414-1ff1-4243-a5d2-f52778048b29/download/covid-19-cases-by-notification-date-and-postcode-local-health-district-and-local-government-area.csv'\n",
    "# download data\n",
    "df_nsw = pd.read_csv(nsw_covid19_url)"
   ]
  },
  {
   "cell_type": "code",
   "execution_count": 4,
   "metadata": {},
   "outputs": [
    {
     "data": {
      "text/html": [
       "<div>\n",
       "<style scoped>\n",
       "    .dataframe tbody tr th:only-of-type {\n",
       "        vertical-align: middle;\n",
       "    }\n",
       "\n",
       "    .dataframe tbody tr th {\n",
       "        vertical-align: top;\n",
       "    }\n",
       "\n",
       "    .dataframe thead th {\n",
       "        text-align: right;\n",
       "    }\n",
       "</style>\n",
       "<table border=\"1\" class=\"dataframe\">\n",
       "  <thead>\n",
       "    <tr style=\"text-align: right;\">\n",
       "      <th></th>\n",
       "      <th>notification_date</th>\n",
       "      <th>postcode</th>\n",
       "      <th>lhd_2010_code</th>\n",
       "      <th>lhd_2010_name</th>\n",
       "      <th>lga_code19</th>\n",
       "      <th>lga_name19</th>\n",
       "    </tr>\n",
       "  </thead>\n",
       "  <tbody>\n",
       "    <tr>\n",
       "      <td>0</td>\n",
       "      <td>2020-01-22</td>\n",
       "      <td>2134.0</td>\n",
       "      <td>X700</td>\n",
       "      <td>Sydney</td>\n",
       "      <td>11300.0</td>\n",
       "      <td>Burwood (A)</td>\n",
       "    </tr>\n",
       "    <tr>\n",
       "      <td>1</td>\n",
       "      <td>2020-01-24</td>\n",
       "      <td>2121.0</td>\n",
       "      <td>X760</td>\n",
       "      <td>Northern Sydney</td>\n",
       "      <td>16260.0</td>\n",
       "      <td>Parramatta (C)</td>\n",
       "    </tr>\n",
       "    <tr>\n",
       "      <td>2</td>\n",
       "      <td>2020-01-25</td>\n",
       "      <td>2033.0</td>\n",
       "      <td>X720</td>\n",
       "      <td>South Eastern Sydney</td>\n",
       "      <td>16550.0</td>\n",
       "      <td>Randwick (C)</td>\n",
       "    </tr>\n",
       "    <tr>\n",
       "      <td>3</td>\n",
       "      <td>2020-01-25</td>\n",
       "      <td>2071.0</td>\n",
       "      <td>X760</td>\n",
       "      <td>Northern Sydney</td>\n",
       "      <td>14500.0</td>\n",
       "      <td>Ku-ring-gai (A)</td>\n",
       "    </tr>\n",
       "    <tr>\n",
       "      <td>4</td>\n",
       "      <td>2020-02-21</td>\n",
       "      <td>2010.0</td>\n",
       "      <td>X720</td>\n",
       "      <td>South Eastern Sydney</td>\n",
       "      <td>17200.0</td>\n",
       "      <td>Sydney (C)</td>\n",
       "    </tr>\n",
       "  </tbody>\n",
       "</table>\n",
       "</div>"
      ],
      "text/plain": [
       "  notification_date  postcode lhd_2010_code         lhd_2010_name  lga_code19  \\\n",
       "0        2020-01-22    2134.0          X700                Sydney     11300.0   \n",
       "1        2020-01-24    2121.0          X760       Northern Sydney     16260.0   \n",
       "2        2020-01-25    2033.0          X720  South Eastern Sydney     16550.0   \n",
       "3        2020-01-25    2071.0          X760       Northern Sydney     14500.0   \n",
       "4        2020-02-21    2010.0          X720  South Eastern Sydney     17200.0   \n",
       "\n",
       "        lga_name19  \n",
       "0      Burwood (A)  \n",
       "1   Parramatta (C)  \n",
       "2     Randwick (C)  \n",
       "3  Ku-ring-gai (A)  \n",
       "4       Sydney (C)  "
      ]
     },
     "execution_count": 4,
     "metadata": {},
     "output_type": "execute_result"
    }
   ],
   "source": [
    "df_nsw.head()"
   ]
  },
  {
   "cell_type": "code",
   "execution_count": 44,
   "metadata": {},
   "outputs": [],
   "source": [
    "def upload_to_bq(dataset_id, table_name, df): #takes dataset_id, how you want to name it in bq, df as argument\n",
    "    df.to_gbq(dataset_id+'.'+table_name, \n",
    "                project_id, # Context.default().project_id,\n",
    "                chunksize=1000, \n",
    "                if_exists='replace' #append,fail\n",
    "            )"
   ]
  },
  {
   "cell_type": "code",
   "execution_count": 51,
   "metadata": {},
   "outputs": [
    {
     "name": "stderr",
     "output_type": "stream",
     "text": [
      "3it [00:21,  7.17s/it]\n"
     ]
    }
   ],
   "source": [
    "upload_to_bq(dataset_id='Playground_rliao', table_name='nsw_covid_19_lga', df=df_nsw)\n",
    "\n",
    "#Pranam's old approach\n",
    "#table_ref = client.dataset(dataset_id).table('nsw_covid19_data_tmp')\n",
    "#client.load_table_from_dataframe(df, table_ref).result()"
   ]
  },
  {
   "cell_type": "code",
   "execution_count": 39,
   "metadata": {},
   "outputs": [],
   "source": [
    "json_list = ['https://interactive.guim.co.uk/covidfeeds/nsw.json',\n",
    "             'https://interactive.guim.co.uk/covidfeeds/victoria.json',\n",
    "             'https://interactive.guim.co.uk/covidfeeds/queensland.json',\n",
    "             'https://interactive.guim.co.uk/covidfeeds/wa.json']\n",
    "\n",
    "name_list = ['nsw_covid_feeds', 'vic_covid_feeds','qld_covid_feeds','wa_covid_feeds']\n",
    "\n",
    "#Create a df that holds all the json links and how you would name them\n",
    "df_json = pd.DataFrame(list(zip(name_list, json_list)), columns =['tableName', 'link']) "
   ]
  },
  {
   "cell_type": "code",
   "execution_count": 40,
   "metadata": {},
   "outputs": [],
   "source": [
    "def json_to_df(df): #pass through a df that holds all json\n",
    "    \n",
    "    df_collection = {} #initiate empty dictionary to hold all resulted df\n",
    "    \n",
    "    for i in range(len(df.iloc[:,1])):\n",
    "        df_name= df['tableName'][i]\n",
    "        df_collection[df_name]=pd.read_json(df['link'][i], orient='records')\n",
    "        \n",
    "    return df_collection"
   ]
  },
  {
   "cell_type": "code",
   "execution_count": 41,
   "metadata": {},
   "outputs": [],
   "source": [
    "#call function to create the dict that holds all df\n",
    "df_collection=json_to_df(df=df_json)"
   ]
  },
  {
   "cell_type": "code",
   "execution_count": 49,
   "metadata": {},
   "outputs": [
    {
     "name": "stderr",
     "output_type": "stream",
     "text": [
      "1it [00:06,  6.76s/it]\n",
      "1it [00:06,  6.54s/it]\n",
      "1it [00:06,  6.24s/it]\n",
      "1it [00:06,  6.48s/it]\n"
     ]
    }
   ],
   "source": [
    "#looping through each df and upload to bq\n",
    "for i in df_collection:\n",
    "    upload_to_bq(dataset_id='Playground_rliao', table_name=i, df=df_collection[i])"
   ]
  },
  {
   "cell_type": "code",
   "execution_count": null,
   "metadata": {},
   "outputs": [],
   "source": []
  }
 ],
 "metadata": {
  "kernelspec": {
   "display_name": "Python 3",
   "language": "python",
   "name": "python3"
  },
  "language_info": {
   "codemirror_mode": {
    "name": "ipython",
    "version": 3
   },
   "file_extension": ".py",
   "mimetype": "text/x-python",
   "name": "python",
   "nbconvert_exporter": "python",
   "pygments_lexer": "ipython3",
   "version": "3.7.4"
  }
 },
 "nbformat": 4,
 "nbformat_minor": 2
}
