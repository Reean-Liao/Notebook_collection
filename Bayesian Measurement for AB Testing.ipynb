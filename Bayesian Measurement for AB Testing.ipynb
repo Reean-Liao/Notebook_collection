{
 "cells": [
  {
   "cell_type": "code",
   "execution_count": 1,
   "metadata": {},
   "outputs": [],
   "source": [
    "import pandas as pd\n",
    "import seaborn as sns\n",
    "import matplotlib.pyplot as plt\n",
    "import re\n",
    "import numpy as np\n",
    "import scipy.stats as stats\n",
    "#from scipy.stats import beta\n",
    "from math import lgamma\n",
    "from numba import jit #just in time compiling\n",
    "from mpmath import betainc\n",
    "\n",
    "from google.cloud import bigquery\n",
    "from google.cloud import storage\n",
    "from google_auth_oauthlib import flow"
   ]
  },
  {
   "cell_type": "markdown",
   "metadata": {},
   "source": [
    "## Table of Content\n",
    "* [Cleaning & Preparation](#Cleaning-&-Preparation)\n",
    "    * [Read Table](#Read-Table)\n",
    "\n",
    "* [One Example](#One-Example)\n",
    "    * [Distribution](#Distribution)\n",
    "    * [Fancy Visualisation](#Fancy-Visualisation)\n",
    "    * [Calculate Uplift](#Calculate-Uplift)\n",
    "\n",
    "* [Productionize](#Productionize)\n",
    "\n",
    "* [Appendix](#Appendix-&-Notes)"
   ]
  },
  {
   "cell_type": "markdown",
   "metadata": {},
   "source": [
    "## Cleaning & Preparation\n",
    "\n",
    "### Read Table\n",
    "[Back to top](#Table-of-Content)"
   ]
  },
  {
   "cell_type": "code",
   "execution_count": 12,
   "metadata": {},
   "outputs": [],
   "source": [
    "df_raw=pd.read_csv('AB Testing example data.csv')"
   ]
  },
  {
   "cell_type": "code",
   "execution_count": 10,
   "metadata": {},
   "outputs": [
    {
     "name": "stdout",
     "output_type": "stream",
     "text": [
      "<class 'pandas.core.frame.DataFrame'>\n",
      "RangeIndex: 76 entries, 0 to 75\n",
      "Data columns (total 6 columns):\n",
      "sent_week     76 non-null object\n",
      "City          76 non-null object\n",
      "audience      76 non-null object\n",
      "test_group    76 non-null object\n",
      "opens         76 non-null int64\n",
      "clicks        76 non-null int64\n",
      "dtypes: int64(2), object(4)\n",
      "memory usage: 3.7+ KB\n"
     ]
    }
   ],
   "source": [
    "df_raw.info()"
   ]
  },
  {
   "cell_type": "markdown",
   "metadata": {},
   "source": [
    "This is a raw table containing all test results from the two chosen city for each audience. Only `Open` and `Click` measures are chosen here for comparing A/B Results."
   ]
  },
  {
   "cell_type": "code",
   "execution_count": 13,
   "metadata": {},
   "outputs": [],
   "source": [
    "#Pivot test group\n",
    "df=df_raw.pivot_table(values=['opens', 'clicks'], index=['sent_week','city','audience'], \n",
    "                          columns='test_group', aggfunc = 'sum').reset_index().fillna(0)\n",
    "df.columns = df.columns.to_series().str.join('_') #flattern multi-index\n",
    "df.rename(columns={\"sent_week_\": \"sent_week\", \"city_\": \"city\", \"audience_\": \"audience\"}, inplace=True)"
   ]
  },
  {
   "cell_type": "code",
   "execution_count": 14,
   "metadata": {},
   "outputs": [
    {
     "data": {
      "text/html": [
       "<div>\n",
       "<style scoped>\n",
       "    .dataframe tbody tr th:only-of-type {\n",
       "        vertical-align: middle;\n",
       "    }\n",
       "\n",
       "    .dataframe tbody tr th {\n",
       "        vertical-align: top;\n",
       "    }\n",
       "\n",
       "    .dataframe thead th {\n",
       "        text-align: right;\n",
       "    }\n",
       "</style>\n",
       "<table border=\"1\" class=\"dataframe\">\n",
       "  <thead>\n",
       "    <tr style=\"text-align: right;\">\n",
       "      <th></th>\n",
       "      <th>sent_week</th>\n",
       "      <th>city</th>\n",
       "      <th>audience</th>\n",
       "      <th>clicks_control</th>\n",
       "      <th>clicks_target</th>\n",
       "      <th>opens_control</th>\n",
       "      <th>opens_target</th>\n",
       "    </tr>\n",
       "  </thead>\n",
       "  <tbody>\n",
       "    <tr>\n",
       "      <th>0</th>\n",
       "      <td>10/1/21</td>\n",
       "      <td>AAA</td>\n",
       "      <td>female</td>\n",
       "      <td>38</td>\n",
       "      <td>971</td>\n",
       "      <td>295</td>\n",
       "      <td>6616</td>\n",
       "    </tr>\n",
       "    <tr>\n",
       "      <th>1</th>\n",
       "      <td>10/1/21</td>\n",
       "      <td>AAA</td>\n",
       "      <td>male</td>\n",
       "      <td>19</td>\n",
       "      <td>274</td>\n",
       "      <td>294</td>\n",
       "      <td>3745</td>\n",
       "    </tr>\n",
       "    <tr>\n",
       "      <th>2</th>\n",
       "      <td>10/1/21</td>\n",
       "      <td>BBB</td>\n",
       "      <td>female</td>\n",
       "      <td>11</td>\n",
       "      <td>288</td>\n",
       "      <td>281</td>\n",
       "      <td>5627</td>\n",
       "    </tr>\n",
       "    <tr>\n",
       "      <th>3</th>\n",
       "      <td>10/1/21</td>\n",
       "      <td>BBB</td>\n",
       "      <td>male</td>\n",
       "      <td>12</td>\n",
       "      <td>86</td>\n",
       "      <td>392</td>\n",
       "      <td>3663</td>\n",
       "    </tr>\n",
       "    <tr>\n",
       "      <th>4</th>\n",
       "      <td>13/12/20</td>\n",
       "      <td>AAA</td>\n",
       "      <td>female</td>\n",
       "      <td>27</td>\n",
       "      <td>421</td>\n",
       "      <td>269</td>\n",
       "      <td>5821</td>\n",
       "    </tr>\n",
       "  </tbody>\n",
       "</table>\n",
       "</div>"
      ],
      "text/plain": [
       "  sent_week city audience  clicks_control  clicks_target  opens_control  \\\n",
       "0   10/1/21  AAA   female              38            971            295   \n",
       "1   10/1/21  AAA     male              19            274            294   \n",
       "2   10/1/21  BBB   female              11            288            281   \n",
       "3   10/1/21  BBB     male              12             86            392   \n",
       "4  13/12/20  AAA   female              27            421            269   \n",
       "\n",
       "   opens_target  \n",
       "0          6616  \n",
       "1          3745  \n",
       "2          5627  \n",
       "3          3663  \n",
       "4          5821  "
      ]
     },
     "execution_count": 14,
     "metadata": {},
     "output_type": "execute_result"
    }
   ],
   "source": [
    "df.head()"
   ]
  },
  {
   "cell_type": "markdown",
   "metadata": {},
   "source": [
    "## One Example\n",
    "[Back to top](#Table-of-Content)"
   ]
  },
  {
   "cell_type": "markdown",
   "metadata": {},
   "source": [
    "Let's pick the `AAA: female` test on the 10th Jan 2021 as an example. \n",
    "\n",
    "Code taken from V, Lavorini (2019) https://towardsdatascience.com/bayesian-a-b-testing-with-python-the-easy-guide-d638f89e0b8a"
   ]
  },
  {
   "cell_type": "markdown",
   "metadata": {},
   "source": [
    "### Distribution\n",
    "[Back to top](#Table-of-Content)"
   ]
  },
  {
   "cell_type": "code",
   "execution_count": 15,
   "metadata": {},
   "outputs": [],
   "source": [
    "#This is the known data: open(impressions) and click(conversions) for the Control and Target set\n",
    "opens_C, clicks_C = 295, 38 #C for control\n",
    "opens_T, clicks_T = 6616, 971 #T for target\n",
    "\n",
    "#here we create the Beta functions for the two sets\n",
    "a_C, b_C = clicks_C+1, opens_C-clicks_C+1 #alpha is success (click), while beta is failure\n",
    "beta_C = stats.beta(a_C, b_C)\n",
    "a_T, b_T = clicks_T+1, opens_T-clicks_T+1\n",
    "beta_T = stats.beta(a_T, b_T)"
   ]
  },
  {
   "cell_type": "code",
   "execution_count": 16,
   "metadata": {},
   "outputs": [
    {
     "data": {
      "image/png": "[encoded data removed]",
      "text/plain": [
       "<Figure size 720x360 with 1 Axes>"
      ]
     },
     "metadata": {
      "needs_background": "light"
     },
     "output_type": "display_data"
    }
   ],
   "source": [
    "def calc_beta_mode(a, b):\n",
    "    '''this function calculate the mode (peak) of the Beta distribution'''\n",
    "    return (a-1)/(a+b-2)\n",
    "\n",
    "def plot(betas, names, linf=0, lsup=1):\n",
    "    '''this function plots the Beta distribution'''\n",
    "    x=np.linspace(linf, lsup, 100) #Return evenly spaced numbers over a specified interval, 100 steps from 0 to 1\n",
    "    \n",
    "    for f, name in zip(betas,names) :\n",
    "        y=f.pdf(x) #this for calculate the value for the PDF at the specified x-points\n",
    "        y_mode=calc_beta_mode(f.args[0], f.args[1])\n",
    "        y_var=f.var() # the variance of the Beta distribution\n",
    "        plt.plot(x, y, label=f\"{name} sample, click rate: {y_mode:0.2%} $\\pm$ {y_var:0.2%}\")\n",
    "\n",
    "    plt.legend()\n",
    "    #plt.ylabel('density')\n",
    "    #plt.xlabel('click_rate')\n",
    "    plt.show()\n",
    "\n",
    "plt.figure(figsize=(10,5))\n",
    "plot([beta_C, beta_T], names=[\"Control\", \"Target\"])"
   ]
  },
  {
   "cell_type": "markdown",
   "metadata": {},
   "source": [
    "Similar to the frequentist approach, the Test for AAA's female is 1.8% (in terms of click rate) higher than the control. This is our lift, but now we need to test how trustful this lift is.\n",
    "\n",
    "First we will use Monte Carlo Simulation to generate some fancy visualisation."
   ]
  },
  {
   "cell_type": "markdown",
   "metadata": {},
   "source": [
    "### Fancy Visualisation\n",
    "[Back to top](#Table-of-Content)\n",
    "\n",
    "We will borrow the code from V, Lavorini (2019) https://towardsdatascience.com/bayesian-a-b-testing-with-python-the-easy-guide-d638f89e0b8a"
   ]
  },
  {
   "cell_type": "code",
   "execution_count": 20,
   "metadata": {},
   "outputs": [
    {
     "data": {
      "image/png": "[encoded data removed]",
      "text/plain": [
       "<Figure size 432x432 with 3 Axes>"
      ]
     },
     "metadata": {
      "needs_background": "light"
     },
     "output_type": "display_data"
    }
   ],
   "source": [
    "val_C=np.random.beta(a_C, b_C, 100000) #Monte Carlo sample 100k from each distribution\n",
    "val_T=np.random.beta(a_T, b_T, 100000)\n",
    "vals=np.vstack([val_C, val_T]).T\n",
    "\n",
    "limit=0.175 #not to plot the entire area\n",
    "\n",
    "df_plot=pd.DataFrame(vals, columns=['Control', 'Target'])\n",
    "df_plot=df_plot[df_plot['Control']<limit]\n",
    "df_plot=df_plot[df_plot['Target']<limit]\n",
    "g=sns.jointplot(x=df_plot.Control, y=df_plot.Target, kind='kde', n_levels=15)\n",
    "g.ax_joint.plot([0.1, limit], [0.1, limit]);"
   ]
  },
  {
   "cell_type": "markdown",
   "metadata": {},
   "source": [
    "### Calculate Uplift\n",
    "[Back to top](#Table-of-Content)\n",
    "\n",
    "Above is the satellite contour of the joint distribution of `Target` and `Control`. In 3D, this looks like a mountain.\n",
    "\n",
    "The calculation of \"lift\" is essentially calculating how much contour area (or mountain volume) that is under 45 degree line. For this, we will once again, borrow the code from V, Lavorini (2019) https://towardsdatascience.com/bayesian-a-b-testing-with-python-the-easy-guide-d638f89e0b8a which is based on J, Cook (2005) https://www.johndcook.com/UTMDABTR-005-05.pdf."
   ]
  },
  {
   "cell_type": "code",
   "execution_count": 21,
   "metadata": {},
   "outputs": [],
   "source": [
    "#defining the functions used\n",
    "@jit #defer compilation until first function is executed to let JIT optimize performance\n",
    "def h(a, b, c, d):\n",
    "    num = lgamma(a + c) + lgamma(b + d) + lgamma(a + b) + lgamma(c + d)\n",
    "    den = lgamma(a) + lgamma(b) + lgamma(c) + lgamma(d) + lgamma(a + b + c + d)\n",
    "    return np.exp(num - den)\n",
    "\n",
    "@jit\n",
    "def g0(a, b, c):    \n",
    "    return np.exp(lgamma(a + b) + lgamma(a + c) - (lgamma(a + b + c) + lgamma(a)))\n",
    "\n",
    "@jit\n",
    "def hiter(a, b, c, d):\n",
    "    while d > 1:\n",
    "        d -= 1\n",
    "        yield h(a, b, c, d) / d\n",
    "\n",
    "def g(a, b, c, d):\n",
    "    return g0(a, b, c) + sum(hiter(a, b, c, d))\n",
    "\n",
    "def calc_prob_between(beta1, beta2):\n",
    "    return g(beta1.args[0], beta1.args[1], beta2.args[0], beta2.args[1])"
   ]
  },
  {
   "cell_type": "code",
   "execution_count": 22,
   "metadata": {},
   "outputs": [
    {
     "name": "stdout",
     "output_type": "stream",
     "text": [
      "Target lifts click rates by 11.8% with 78.6% probability.\n"
     ]
    }
   ],
   "source": [
    "#calculating the lift\n",
    "lift=(beta_T.mean()-beta_C.mean())/beta_C.mean()\n",
    "\n",
    "#calculating the probability for Target to be better than Control\n",
    "prob=calc_prob_between(beta_T, beta_C)\n",
    "\n",
    "print (f\"Target lifts click rates by {lift*100:2.1f}% with {prob*100:2.1f}% probability.\")"
   ]
  },
  {
   "cell_type": "markdown",
   "metadata": {},
   "source": [
    "Another thing the business might want to know is, how often can the `Target` achieve a certain benchmark KPI(say at least a 10% click rate) for email to be released. We can see the probability of this happening by integrating the area between this lower bound and 1 in the `Target` distribution."
   ]
  },
  {
   "cell_type": "code",
   "execution_count": 23,
   "metadata": {},
   "outputs": [
    {
     "data": {
      "text/plain": [
       "mpf('1.0')"
      ]
     },
     "execution_count": 23,
     "metadata": {},
     "output_type": "execute_result"
    }
   ],
   "source": [
    "betainc(a_T, b_T, 0.1, 1, regularized=True) #this is the alpha and beta for the Target beta function\n",
    "#print (f\"Target will have at least 10% click rate with {p*100:2.1f}% probability.\")"
   ]
  },
  {
   "cell_type": "markdown",
   "metadata": {},
   "source": [
    "## Productionize\n",
    "[Back to top](#Table-of-Content)"
   ]
  },
  {
   "cell_type": "code",
   "execution_count": 24,
   "metadata": {},
   "outputs": [],
   "source": [
    "def get_uplift(row):\n",
    "    \n",
    "    opens_C = row.opens_control\n",
    "    clicks_C = row.clicks_control\n",
    "    opens_T = row.opens_target\n",
    "    clicks_T = row.clicks_target\n",
    "\n",
    "    #here we create the Beta functions for the two sets\n",
    "    a_C, b_C = clicks_C+1, opens_C-clicks_C+1 #alpha is success (click), while beta is failure\n",
    "    beta_C = stats.beta(a_C, b_C)\n",
    "    a_T, b_T = clicks_T+1, opens_T-clicks_T+1\n",
    "    beta_T = stats.beta(a_T, b_T)\n",
    "    \n",
    "    #calculate uplift\n",
    "    lift=(beta_T.mean()-beta_C.mean())/beta_C.mean()\n",
    "\n",
    "    #calculating the probability for Target to be better than Control\n",
    "    prob=calc_prob_between(beta_T, beta_C) #will need to compile JIT prior to using this\n",
    "    \n",
    "    return lift, prob"
   ]
  },
  {
   "cell_type": "code",
   "execution_count": 25,
   "metadata": {},
   "outputs": [],
   "source": [
    "df[['lift','probability']]= pd.DataFrame(df.apply(get_uplift, axis=1).tolist())"
   ]
  },
  {
   "cell_type": "code",
   "execution_count": 26,
   "metadata": {},
   "outputs": [
    {
     "data": {
      "text/html": [
       "<div>\n",
       "<style scoped>\n",
       "    .dataframe tbody tr th:only-of-type {\n",
       "        vertical-align: middle;\n",
       "    }\n",
       "\n",
       "    .dataframe tbody tr th {\n",
       "        vertical-align: top;\n",
       "    }\n",
       "\n",
       "    .dataframe thead th {\n",
       "        text-align: right;\n",
       "    }\n",
       "</style>\n",
       "<table border=\"1\" class=\"dataframe\">\n",
       "  <thead>\n",
       "    <tr style=\"text-align: right;\">\n",
       "      <th></th>\n",
       "      <th>sent_week</th>\n",
       "      <th>city</th>\n",
       "      <th>audience</th>\n",
       "      <th>clicks_control</th>\n",
       "      <th>clicks_target</th>\n",
       "      <th>opens_control</th>\n",
       "      <th>opens_target</th>\n",
       "      <th>lift</th>\n",
       "      <th>probability</th>\n",
       "    </tr>\n",
       "  </thead>\n",
       "  <tbody>\n",
       "    <tr>\n",
       "      <th>0</th>\n",
       "      <td>10/1/21</td>\n",
       "      <td>AAA</td>\n",
       "      <td>female</td>\n",
       "      <td>38</td>\n",
       "      <td>971</td>\n",
       "      <td>295</td>\n",
       "      <td>6616</td>\n",
       "      <td>0.118488</td>\n",
       "      <td>0.785738</td>\n",
       "    </tr>\n",
       "    <tr>\n",
       "      <th>1</th>\n",
       "      <td>10/1/21</td>\n",
       "      <td>AAA</td>\n",
       "      <td>male</td>\n",
       "      <td>19</td>\n",
       "      <td>274</td>\n",
       "      <td>294</td>\n",
       "      <td>3745</td>\n",
       "      <td>0.086202</td>\n",
       "      <td>0.667840</td>\n",
       "    </tr>\n",
       "    <tr>\n",
       "      <th>2</th>\n",
       "      <td>10/1/21</td>\n",
       "      <td>BBB</td>\n",
       "      <td>female</td>\n",
       "      <td>11</td>\n",
       "      <td>288</td>\n",
       "      <td>281</td>\n",
       "      <td>5627</td>\n",
       "      <td>0.210798</td>\n",
       "      <td>0.778748</td>\n",
       "    </tr>\n",
       "    <tr>\n",
       "      <th>3</th>\n",
       "      <td>10/1/21</td>\n",
       "      <td>BBB</td>\n",
       "      <td>male</td>\n",
       "      <td>12</td>\n",
       "      <td>86</td>\n",
       "      <td>392</td>\n",
       "      <td>3663</td>\n",
       "      <td>-0.280554</td>\n",
       "      <td>0.157742</td>\n",
       "    </tr>\n",
       "    <tr>\n",
       "      <th>4</th>\n",
       "      <td>13/12/20</td>\n",
       "      <td>AAA</td>\n",
       "      <td>female</td>\n",
       "      <td>27</td>\n",
       "      <td>421</td>\n",
       "      <td>269</td>\n",
       "      <td>5821</td>\n",
       "      <td>-0.298582</td>\n",
       "      <td>0.039866</td>\n",
       "    </tr>\n",
       "  </tbody>\n",
       "</table>\n",
       "</div>"
      ],
      "text/plain": [
       "  sent_week city audience  clicks_control  clicks_target  opens_control  \\\n",
       "0   10/1/21  AAA   female              38            971            295   \n",
       "1   10/1/21  AAA     male              19            274            294   \n",
       "2   10/1/21  BBB   female              11            288            281   \n",
       "3   10/1/21  BBB     male              12             86            392   \n",
       "4  13/12/20  AAA   female              27            421            269   \n",
       "\n",
       "   opens_target      lift  probability  \n",
       "0          6616  0.118488     0.785738  \n",
       "1          3745  0.086202     0.667840  \n",
       "2          5627  0.210798     0.778748  \n",
       "3          3663 -0.280554     0.157742  \n",
       "4          5821 -0.298582     0.039866  "
      ]
     },
     "execution_count": 26,
     "metadata": {},
     "output_type": "execute_result"
    }
   ],
   "source": [
    "df.head()"
   ]
  },
  {
   "cell_type": "code",
   "execution_count": 27,
   "metadata": {},
   "outputs": [
    {
     "data": {
      "image/png": "[encoded data removed]",
      "text/plain": [
       "<Figure size 801.875x360 with 2 Axes>"
      ]
     },
     "metadata": {
      "needs_background": "light"
     },
     "output_type": "display_data"
    }
   ],
   "source": [
    "ax=sns.relplot(data=df, x=\"lift\", y=\"probability\", \n",
    "            col=\"city\", hue=\"audience\", style=\"audience\", kind=\"scatter\", palette=\"deep\")\n",
    "ax.axes[0][0].plot((0.2, 0.2), (1, 0))\n",
    "ax.axes[0][1].plot((0.2, 0.2), (1, 0))\n",
    "ax.axes[0][0].plot((-1, 1), (0.8, 0.8))\n",
    "ax.axes[0][1].plot((-1, 1), (0.8, 0.8))\n",
    "plt.show();"
   ]
  },
  {
   "cell_type": "code",
   "execution_count": 28,
   "metadata": {},
   "outputs": [
    {
     "data": {
      "text/html": [
       "<div>\n",
       "<style scoped>\n",
       "    .dataframe tbody tr th:only-of-type {\n",
       "        vertical-align: middle;\n",
       "    }\n",
       "\n",
       "    .dataframe tbody tr th {\n",
       "        vertical-align: top;\n",
       "    }\n",
       "\n",
       "    .dataframe thead th {\n",
       "        text-align: right;\n",
       "    }\n",
       "</style>\n",
       "<table border=\"1\" class=\"dataframe\">\n",
       "  <thead>\n",
       "    <tr style=\"text-align: right;\">\n",
       "      <th></th>\n",
       "      <th>clicks_control</th>\n",
       "      <th>clicks_target</th>\n",
       "      <th>opens_control</th>\n",
       "      <th>opens_target</th>\n",
       "      <th>lift</th>\n",
       "      <th>probability</th>\n",
       "      <th>acceptance</th>\n",
       "    </tr>\n",
       "    <tr>\n",
       "      <th>city</th>\n",
       "      <th></th>\n",
       "      <th></th>\n",
       "      <th></th>\n",
       "      <th></th>\n",
       "      <th></th>\n",
       "      <th></th>\n",
       "      <th></th>\n",
       "    </tr>\n",
       "  </thead>\n",
       "  <tbody>\n",
       "    <tr>\n",
       "      <th>AAA</th>\n",
       "      <td>30.812500</td>\n",
       "      <td>475.875000</td>\n",
       "      <td>325.062500</td>\n",
       "      <td>4260.000000</td>\n",
       "      <td>0.117425</td>\n",
       "      <td>0.651335</td>\n",
       "      <td>0.250000</td>\n",
       "    </tr>\n",
       "    <tr>\n",
       "      <th>BBB</th>\n",
       "      <td>33.227273</td>\n",
       "      <td>360.090909</td>\n",
       "      <td>415.272727</td>\n",
       "      <td>4405.909091</td>\n",
       "      <td>-0.001507</td>\n",
       "      <td>0.470526</td>\n",
       "      <td>0.136364</td>\n",
       "    </tr>\n",
       "  </tbody>\n",
       "</table>\n",
       "</div>"
      ],
      "text/plain": [
       "      clicks_control  clicks_target  opens_control  opens_target      lift  \\\n",
       "city                                                                         \n",
       "AAA        30.812500     475.875000     325.062500   4260.000000  0.117425   \n",
       "BBB        33.227273     360.090909     415.272727   4405.909091 -0.001507   \n",
       "\n",
       "      probability  acceptance  \n",
       "city                           \n",
       "AAA      0.651335    0.250000  \n",
       "BBB      0.470526    0.136364  "
      ]
     },
     "execution_count": 28,
     "metadata": {},
     "output_type": "execute_result"
    }
   ],
   "source": [
    "df['acceptance'] = np.where((df['lift']>=0.2) & (df['probability']>=0.8), \n",
    "                                1, 0) #20% uplift at least with 80% confidence\n",
    "df.groupby(['city']).mean()"
   ]
  },
  {
   "cell_type": "code",
   "execution_count": 29,
   "metadata": {},
   "outputs": [
    {
     "data": {
      "text/html": [
       "<div>\n",
       "<style scoped>\n",
       "    .dataframe tbody tr th:only-of-type {\n",
       "        vertical-align: middle;\n",
       "    }\n",
       "\n",
       "    .dataframe tbody tr th {\n",
       "        vertical-align: top;\n",
       "    }\n",
       "\n",
       "    .dataframe thead th {\n",
       "        text-align: right;\n",
       "    }\n",
       "</style>\n",
       "<table border=\"1\" class=\"dataframe\">\n",
       "  <thead>\n",
       "    <tr style=\"text-align: right;\">\n",
       "      <th></th>\n",
       "      <th>sent_week</th>\n",
       "      <th>audience</th>\n",
       "      <th>clicks_control</th>\n",
       "      <th>clicks_target</th>\n",
       "      <th>opens_control</th>\n",
       "      <th>opens_target</th>\n",
       "      <th>lift</th>\n",
       "      <th>probability</th>\n",
       "      <th>acceptance</th>\n",
       "    </tr>\n",
       "    <tr>\n",
       "      <th>city</th>\n",
       "      <th></th>\n",
       "      <th></th>\n",
       "      <th></th>\n",
       "      <th></th>\n",
       "      <th></th>\n",
       "      <th></th>\n",
       "      <th></th>\n",
       "      <th></th>\n",
       "      <th></th>\n",
       "    </tr>\n",
       "  </thead>\n",
       "  <tbody>\n",
       "    <tr>\n",
       "      <th>AAA</th>\n",
       "      <td>16</td>\n",
       "      <td>16</td>\n",
       "      <td>16</td>\n",
       "      <td>16</td>\n",
       "      <td>16</td>\n",
       "      <td>16</td>\n",
       "      <td>16</td>\n",
       "      <td>16</td>\n",
       "      <td>16</td>\n",
       "    </tr>\n",
       "    <tr>\n",
       "      <th>BBB</th>\n",
       "      <td>22</td>\n",
       "      <td>22</td>\n",
       "      <td>22</td>\n",
       "      <td>22</td>\n",
       "      <td>22</td>\n",
       "      <td>22</td>\n",
       "      <td>22</td>\n",
       "      <td>22</td>\n",
       "      <td>22</td>\n",
       "    </tr>\n",
       "  </tbody>\n",
       "</table>\n",
       "</div>"
      ],
      "text/plain": [
       "      sent_week  audience  clicks_control  clicks_target  opens_control  \\\n",
       "city                                                                      \n",
       "AAA          16        16              16             16             16   \n",
       "BBB          22        22              22             22             22   \n",
       "\n",
       "      opens_target  lift  probability  acceptance  \n",
       "city                                               \n",
       "AAA             16    16           16          16  \n",
       "BBB             22    22           22          22  "
      ]
     },
     "execution_count": 29,
     "metadata": {},
     "output_type": "execute_result"
    }
   ],
   "source": [
    "df.groupby(['city']).count()"
   ]
  },
  {
   "cell_type": "markdown",
   "metadata": {},
   "source": [
    "only 4 out of 16 email variations in AAA and 3 out of 22 variations in BBB are acceptable on a 20% MDE (Minimal Detectable Effect) with 80% confidence."
   ]
  },
  {
   "cell_type": "markdown",
   "metadata": {},
   "source": [
    "## Appendix & Notes\n",
    "[Back to top](#Table-of-Content)"
   ]
  },
  {
   "cell_type": "code",
   "execution_count": null,
   "metadata": {},
   "outputs": [],
   "source": []
  }
 ],
 "metadata": {
  "kernelspec": {
   "display_name": "Python 3",
   "language": "python",
   "name": "python3"
  },
  "language_info": {
   "codemirror_mode": {
    "name": "ipython",
    "version": 3
   },
   "file_extension": ".py",
   "mimetype": "text/x-python",
   "name": "python",
   "nbconvert_exporter": "python",
   "pygments_lexer": "ipython3",
   "version": "3.7.4"
  }
 },
 "nbformat": 4,
 "nbformat_minor": 2
}
